{
 "cells": [
  {
   "cell_type": "code",
   "execution_count": 103,
   "id": "11187506",
   "metadata": {},
   "outputs": [],
   "source": [
    "import random\n",
    "import math\n",
    "import networkx as nx\n",
    "import matplotlib.pyplot as plt"
   ]
  },
  {
   "cell_type": "code",
   "execution_count": 104,
   "id": "b8faf160",
   "metadata": {},
   "outputs": [],
   "source": [
    "# Class Point\n",
    "class Point:\n",
    "    def __init__(self, x, y, color=None):\n",
    "        self.x = x\n",
    "        self.y = y\n",
    "        self.color = color\n",
    "    \n",
    "    def __str__(self):\n",
    "        return \"Point: (\" + str(self.x) + \", \" + str(self.y) + \")\" + \" | \" + str(self.color)"
   ]
  },
  {
   "cell_type": "code",
   "execution_count": 118,
   "id": "27e5cb15",
   "metadata": {},
   "outputs": [],
   "source": [
    "# Class Colored Vertex (3-color graph coloring)\n",
    "class Vertex(Point):\n",
    "    def __init__(self, x, y, color=None, vertex_type=None):\n",
    "        super().__init__(x, y, color)\n",
    "        self.vertex_type = vertex_type    \n",
    "    def __str__(self):\n",
    "        return super().__str__() + \" | \" + str(self.vertex_type)"
   ]
  },
  {
   "cell_type": "code",
   "execution_count": 106,
   "id": "7ce69bbc",
   "metadata": {},
   "outputs": [],
   "source": [
    "# Class for Linked Structure of Vertex implemented as doubly linked list\n",
    "class LinkedNode:\n",
    "    def __init__(self, vertex):\n",
    "        self.data = vertex\n",
    "        self.prev = None\n",
    "        self.next = None\n",
    "        \n",
    "    def __str__(self):\n",
    "        return self.data.__str__()"
   ]
  },
  {
   "cell_type": "code",
   "execution_count": 107,
   "id": "f592a4b7",
   "metadata": {},
   "outputs": [],
   "source": [
    "# Class Doubly Linked List - Representation for Convex, Reflex and Ear Nodes of the Polygon\n",
    "class DoubleLinkedList:\n",
    "    def __init__(self, cycle=False):\n",
    "        self.head = None\n",
    "        self.tail = None\n",
    "        self.cycle = cycle\n",
    "        \n",
    "    def add_node(self, node):\n",
    "        if self.head == None:\n",
    "            self.head = node\n",
    "            self.tail = node\n",
    "        else:\n",
    "            # insert at the end\n",
    "            node.prev = self.tail\n",
    "            self.tail.next = node\n",
    "            self.tail = node\n",
    "        \n",
    "        # if cyclic    \n",
    "        if self.cycle:\n",
    "            self.head.prev = self.tail\n",
    "            self.tail.next = self.head\n",
    "            \n",
    "    def list_nodes(self):\n",
    "        current = self.head\n",
    "        while True:\n",
    "            print(current)\n",
    "            current = current.next\n",
    "            if current == self.tail.next:\n",
    "                break\n",
    "    \n",
    "    def __iter__(self):\n",
    "        current = self.head\n",
    "        while True:\n",
    "            yield current\n",
    "            current = current.next\n",
    "            if current == self.tail.next:\n",
    "                break"
   ]
  },
  {
   "cell_type": "code",
   "execution_count": 113,
   "id": "16cd2d12",
   "metadata": {},
   "outputs": [],
   "source": [
    "# Class Polygon\n",
    "class Polygon:\n",
    "    def __init__(self, vertices):\n",
    "        # vertices object is a double linked list structure of Vertex Linked Node\n",
    "        self.vertices = vertices\n",
    "        \n",
    "        # create linked lists for convex, reflex, ear vertices\n",
    "        self.convex_vertices, self.reflex_vertices = self.get_convex_and_reflex_vertices()\n",
    "        self.ear_vertices = self.get_ear_vertices()\n",
    "        \n",
    "        \n",
    "    def get_convex_and_reflex_vertices(self):\n",
    "        convex_vertices = DoubleLinkedList()\n",
    "        reflex_vertices = DoubleLinkedList()\n",
    "        for vertex in self.vertices:\n",
    "            if self.is_convex(vertex.prev, vertex, vertex.next):\n",
    "                convex_vertices.add_node(vertex)\n",
    "                vertex.data.vertex_type = \"convex\"\n",
    "            else:\n",
    "                reflex_vertices.add_node(vertex)\n",
    "                vertex.data.vertex_type = \"reflex\"\n",
    "                \n",
    "        return convex_vertices, reflex_vertices\n",
    "\n",
    "    \n",
    "    def get_ear_vertices(self):\n",
    "        ear_vertices = DoubleLinkedList()\n",
    "        for vertex in self.vertices:\n",
    "            if self.is_ear(vertex, vertex.prev, vertex.next):\n",
    "                ear_vertices.add_node(vertex)\n",
    "                vertex.data.vertex_type = \"ear\"\n",
    "        return ear_vertices\n",
    "    \n",
    "    def is_convex(self, vertex1, vertex2, vertex3):\n",
    "        angle = calculate_angle(vertex1.data, vertex2.data, vertex3.data)\n",
    "        print(vertex1)\n",
    "        print(vertex2)\n",
    "        print(vertex3)\n",
    "        print(angle)\n",
    "        return angle <= 180\n",
    "        \n",
    "        \n",
    "    def is_ear(self, vertex, prev_vertex, next_vertex):\n",
    "        # cannot be ear, if vertex is reflex\n",
    "        if vertex.data.vertex_type == \"reflex\":\n",
    "            return False\n",
    "        \n",
    "        triangle = (vertex.data, prev_vertex.data, next_vertex.data)\n",
    "        for reflex_node in self.reflex_vertices:\n",
    "            if is_within_triangle(triangle, reflex_node.data):\n",
    "                return False\n",
    "        return True\n",
    "    \n",
    "    def print_convex_vertices(self):\n",
    "        self.convex_vertices.list_nodes()\n",
    "    \n",
    "    def print_reflex_vertices(self):\n",
    "        self.reflex_vertices.list_nodes()\n",
    "        \n",
    "    def print_ear_vertices(self):\n",
    "        self.ear_vertices.list_nodes()\n",
    "        \n",
    "#     def visualize(self):\n",
    "        "
   ]
  },
  {
   "cell_type": "code",
   "execution_count": 114,
   "id": "2c3ba5c7",
   "metadata": {},
   "outputs": [],
   "source": [
    "# Utility Functions\n",
    "def is_within_triangle(triangle, vertex):\n",
    "        triangle_area = calculate_area(triangle[0], triangle[1], triangle[2])\n",
    "        sub_area_1 = calculate_area(triangle[0], triangle[1], vertex)\n",
    "        sub_area_2 = calculate_area(triangle[0], triangle[2], vertex)\n",
    "        sub_area_3 = calculate_area(triangle[1], triangle[2], vertex)\n",
    "        \n",
    "        if triangle_area == sub_area_1 + sub_area_2 + sub_area_3:\n",
    "            return True\n",
    "        \n",
    "        return False\n",
    "        \n",
    "def calculate_area(vertex1, vertex2, vertex3):\n",
    "    return abs((vertex1.x * (vertex2.y - vertex3.y) + vertex2.x * (vertex3.y - vertex1.y)\n",
    "                + vertex3.x * (vertex1.y - vertex2.y)) / 2.0)\n",
    "\n",
    "def calculate_angle(vertex1, vertex2, vertex3):\n",
    "    angle_1 = math.atan2((vertex3.y-vertex2.y),(vertex3.x-vertex2.x))\n",
    "    angle_2 = math.atan2((vertex1.y-vertex2.y),(vertex1.x-vertex2.x))\n",
    "    angle_at_vertex2 = math.degrees(angle_1-angle_2)\n",
    "    if angle_at_vertex2 == 180:\n",
    "        return False\n",
    "    return angle_at_vertex2 + 360 if angle_at_vertex2 < 0 else angle_at_vertex2"
   ]
  },
  {
   "cell_type": "code",
   "execution_count": 115,
   "id": "e39e4a1f",
   "metadata": {},
   "outputs": [
    {
     "name": "stdout",
     "output_type": "stream",
     "text": [
      "Point: (0, 0) | None | None\n",
      "Point: (1, 1) | None | None\n",
      "Point: (2, 4) | None | None\n",
      "Point: (2, 2) | None | None\n",
      "Point: (4, 4) | None | None\n",
      "Point: (6, 0) | None | None\n",
      "Point: (8, 2) | None | None\n",
      "Point: (9, -1) | None | None\n",
      "Point: (8, -3) | None | None\n",
      "Point: (6, -4) | None | None\n",
      "Point: (5, -1) | None | None\n",
      "Point: (2, -2) | None | None\n"
     ]
    }
   ],
   "source": [
    "# create vertices\n",
    "vertices = [\n",
    "    Vertex(0,0),\n",
    "    Vertex(1,1),\n",
    "    Vertex(2,4),\n",
    "    Vertex(2,2),\n",
    "    Vertex(4,4),\n",
    "    Vertex(6,0),\n",
    "    Vertex(8,2),\n",
    "    Vertex(9,-1),\n",
    "    Vertex(8,-3),\n",
    "    Vertex(6,-4),\n",
    "    Vertex(5,-1),\n",
    "    Vertex(2,-2)\n",
    "]\n",
    "\n",
    "linked_vertices = DoubleLinkedList(cycle=True)\n",
    "\n",
    "for vertex in vertices:\n",
    "    linked_vertex = LinkedNode(vertex)\n",
    "    linked_vertices.add_node(linked_vertex)\n",
    "\n",
    "linked_vertices.list_nodes()"
   ]
  },
  {
   "cell_type": "code",
   "execution_count": 116,
   "id": "6f08e104",
   "metadata": {},
   "outputs": [
    {
     "name": "stdout",
     "output_type": "stream",
     "text": [
      "Point: (2, -2) | None | None\n",
      "Point: (0, 0) | None | None\n",
      "Point: (1, 1) | None | None\n",
      "90.0\n",
      "Point: (0, 0) | None | convex\n",
      "Point: (1, 1) | None | None\n",
      "Point: (2, 4) | None | None\n",
      "206.565051177078\n",
      "Point: (1, 1) | None | reflex\n",
      "Point: (2, 4) | None | None\n",
      "Point: (2, 2) | None | None\n",
      "18.43494882292202\n",
      "Point: (2, 4) | None | convex\n",
      "Point: (2, 2) | None | None\n",
      "Point: (4, 4) | None | None\n",
      "315.0\n",
      "Point: (2, 2) | None | reflex\n",
      "Point: (4, 4) | None | None\n",
      "Point: (6, 0) | None | None\n",
      "71.56505117707799\n",
      "Point: (4, 4) | None | convex\n",
      "Point: (6, 0) | None | None\n",
      "Point: (8, 2) | None | None\n",
      "288.434948822922\n",
      "Point: (6, 0) | None | reflex\n",
      "Point: (8, 2) | None | None\n",
      "Point: (9, -1) | None | None\n",
      "63.43494882292201\n",
      "Point: (8, 2) | None | convex\n",
      "Point: (9, -1) | None | None\n",
      "Point: (8, -3) | None | None\n",
      "135.0\n",
      "Point: (9, -1) | None | convex\n",
      "Point: (8, -3) | None | None\n",
      "Point: (6, -4) | None | None\n",
      "143.13010235415598\n",
      "Point: (8, -3) | None | convex\n",
      "Point: (6, -4) | None | None\n",
      "Point: (5, -1) | None | None\n",
      "81.86989764584403\n",
      "Point: (6, -4) | None | convex\n",
      "Point: (5, -1) | None | None\n",
      "Point: (2, -2) | None | None\n",
      "270.0\n",
      "Point: (5, -1) | None | reflex\n",
      "Point: (2, -2) | None | None\n",
      "Point: (0, 0) | None | convex\n",
      "116.56505117707799\n"
     ]
    }
   ],
   "source": [
    "polygon = Polygon(linked_vertices)"
   ]
  },
  {
   "cell_type": "code",
   "execution_count": 117,
   "id": "b2cce83b",
   "metadata": {},
   "outputs": [
    {
     "name": "stdout",
     "output_type": "stream",
     "text": [
      "Point: (0, 0) | None | convex\n",
      "Point: (2, 4) | None | convex\n",
      "Point: (4, 4) | None | ear\n",
      "Point: (8, 2) | None | ear\n",
      "Point: (9, -1) | None | ear\n",
      "Point: (8, -3) | None | ear\n",
      "Point: (6, -4) | None | ear\n",
      "Point: (2, -2) | None | ear\n",
      "----------------------\n",
      "Point: (1, 1) | None | reflex\n",
      "Point: (2, 2) | None | reflex\n",
      "Point: (6, 0) | None | reflex\n",
      "Point: (5, -1) | None | reflex\n",
      "----------------------\n",
      "Point: (4, 4) | None | ear\n",
      "Point: (8, 2) | None | ear\n",
      "Point: (9, -1) | None | ear\n",
      "Point: (8, -3) | None | ear\n",
      "Point: (6, -4) | None | ear\n",
      "Point: (2, -2) | None | ear\n"
     ]
    }
   ],
   "source": [
    "polygon.print_convex_vertices()\n",
    "print(\"----------------------\")\n",
    "polygon.print_reflex_vertices()\n",
    "print(\"----------------------\")\n",
    "polygon.print_ear_vertices()"
   ]
  },
  {
   "cell_type": "code",
   "execution_count": 96,
   "id": "c16660d3",
   "metadata": {},
   "outputs": [
    {
     "data": {
      "image/png": "[encoded data removed]",
      "text/plain": [
       "<Figure size 640x480 with 1 Axes>"
      ]
     },
     "metadata": {},
     "output_type": "display_data"
    }
   ],
   "source": [
    "import matplotlib.pyplot as plt\n",
    "  \n",
    "# x axis values\n",
    "x = [1,2,3,4,5,6]\n",
    "# corresponding y axis values\n",
    "y = [2,4,1,5,2,6]\n",
    "\n",
    "# vertex.vertex_type,pos=(vertex.x,vertex.y)\n",
    "# plotting the points \n",
    "\n",
    "# colors = []\n",
    "coordinates = []\n",
    "for vertex in vertices:\n",
    "    coordinates.append([vertex.x,vertex.y])\n",
    "\n",
    "coordinates.append(coordinates[0]) #repeat the first point to create a 'closed loop'\n",
    "\n",
    "xs, ys = zip(*coordinates) #create lists of x and y values\n",
    "\n",
    "plt.figure()\n",
    "plt.plot(xs,ys) \n",
    "plt.show()"
   ]
  },
  {
   "cell_type": "code",
   "execution_count": 119,
   "id": "a6ddf78f",
   "metadata": {},
   "outputs": [],
   "source": [
    "# import networkx as nx\n",
    "# import numpy as np\n",
    "# import matplotlib.pyplot as plt\n",
    "\n",
    "# vertices = [\n",
    "#     (0,0),\n",
    "#     (1,1),\n",
    "#     (2,4),\n",
    "#     (2,2),\n",
    "#     (4,4),\n",
    "#     (6,0),\n",
    "#     (8,2),\n",
    "#     (9,-1),\n",
    "#     (8,-2),\n",
    "#     (6,-4),\n",
    "#     (5,-1),\n",
    "#     (2,-2)\n",
    "# ]\n",
    "\n",
    "\n",
    "# G = nx.Graph()\n",
    "# G.add_edges_from(\n",
    "#     [[vertices[0],vertices[1]],[vertices[1],vertices[2]],[vertices[2],vertices[3]],[vertices[3],vertices[4]],[vertices[4],vertices[5]],[vertices[5],vertices[6]],[vertices[6],vertices[7]],[vertices[7],vertices[8]],[vertices[8],vertices[9]],[vertices[9],vertices[10]],[vertices[10],vertices[11]],[vertices[11],vertices[0]]])\n",
    "\n",
    "# # val_map = {'A': 1.0,\n",
    "# #            'D': 0.5714285714285714,\n",
    "# #            'H': 0.0}\n",
    "\n",
    "# # values = [val_map.get(node, 0.25) for node in G.nodes()]\n",
    "\n",
    "# nx.draw(G, cmap=plt.get_cmap('viridis'), with_labels=True, font_color='white')\n",
    "# plt.show()"
   ]
  },
  {
   "cell_type": "code",
   "execution_count": 87,
   "id": "a59d6064",
   "metadata": {},
   "outputs": [
    {
     "data": {
      "text/plain": [
       "<matplotlib.collections.PathCollection at 0x7fc699e04a90>"
      ]
     },
     "execution_count": 87,
     "metadata": {},
     "output_type": "execute_result"
    },
    {
     "data": {
      "image/png": "[encoded data removed]",
      "text/plain": [
       "<Figure size 640x480 with 1 Axes>"
      ]
     },
     "metadata": {},
     "output_type": "display_data"
    }
   ],
   "source": [
    "G=nx.Graph()\n",
    "\n",
    "G.add_node(0,pos=(1,1))\n",
    "\n",
    "G.add_node(1,pos=(2,2))\n",
    "\n",
    "G.add_edge(0,1)\n",
    "\n",
    "pos=nx.get_node_attributes(G,'pos')\n",
    "\n",
    "# pos\n",
    "# {1: (1, 1), 2: (2, 2)}\n",
    "\n",
    "# nx.draw(G,pos,nodelist=[1,2],node_color='r')\n",
    "\n",
    "nx.draw_networkx_nodes(G,pos,\n",
    "                       nodelist=[0,1],\n",
    "                       node_color='r',\n",
    "                       node_size=500,\n",
    "                    alpha=0.8)"
   ]
  },
  {
   "cell_type": "code",
   "execution_count": null,
   "id": "fcc8af41",
   "metadata": {},
   "outputs": [],
   "source": []
  }
 ],
 "metadata": {
  "kernelspec": {
   "display_name": "Python 3 (ipykernel)",
   "language": "python",
   "name": "python3"
  },
  "language_info": {
   "codemirror_mode": {
    "name": "ipython",
    "version": 3
   },
   "file_extension": ".py",
   "mimetype": "text/x-python",
   "name": "python",
   "nbconvert_exporter": "python",
   "pygments_lexer": "ipython3",
   "version": "3.9.13"
  }
 },
 "nbformat": 4,
 "nbformat_minor": 5
}
